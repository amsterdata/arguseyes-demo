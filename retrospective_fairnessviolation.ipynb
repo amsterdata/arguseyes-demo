{
 "cells": [
  {
   "cell_type": "markdown",
   "metadata": {},
   "source": [
    "# Retrospective analysis of a fairness violation in an income classification pipeline\n",
    "\n",
    "When screening our [ML pipeline for income classification](https://github.com/schelterlabs/arguseyes-example/blob/main/pipelines/openml-classification-incomelevel.py) on Github with this [configuration](https://github.com/schelterlabs/arguseyes-example/blob/main/openml-classification-incomelevel-fairness.yaml), ArgusEyes detects a **fairness violation** in the pipeline. \n",
    "\n",
    "The screenshot shows the result of the [screening during the build triggered by a Github action](https://github.com/schelterlabs/arguseyes-example/actions/runs/3523396218/jobs/5907507086): The **classifier treats data from non-male person disparately unfair**, with respect to given threshold on the equal opportunity metric.\n",
    "\n",
    "In the following, we show how to **leverage ArgusEyes to retrospectively analyze the pipeline run** (based on metadata and captured data artifacts), and **figure out the root cause of the fairness violation issue**."
   ]
  },
  {
   "cell_type": "markdown",
   "metadata": {},
   "source": [
    "![data-leakage-screening-via-a-github-action](github-action-fairness-screening.png)"
   ]
  },
  {
   "cell_type": "markdown",
   "metadata": {},
   "source": [
    "### Load the metadata and artifacts from the original run of the pipeline\n",
    "\n",
    "ArgusEyes needs the run id from the mlflow run where ArgusEyes stored the metadata and artifacts. (Note we use a local run here for demo purposes)."
   ]
  },
  {
   "cell_type": "code",
   "execution_count": 1,
   "id": "ebaaac70",
   "metadata": {},
   "outputs": [],
   "source": [
    "from arguseyes.retrospective import PipelineRun, FairnessRetrospective\n",
    "\n",
    "run = PipelineRun(run_id='d0f8dbbe5ba340e89b869bd023e8c0c6')"
   ]
  },
  {
   "cell_type": "markdown",
   "metadata": {},
   "source": [
    "### Interactively explore the dataflow plan and data of the pipeline run\n",
    "\n",
    "We can view a dataflow plan of the pipeline, which highlights the input datasets, as well as the features and labels for the train and test data computed by the pipeline. We can interactively explore the pipeline data. Clicking on the pink data vertices provides us with details about the corresponding data.\n",
    "\n",
    "<span style='color: red;'>[Note that this interactive widget is only shown during the actual execution of the notebook with jupyter and not rendered in the offline view on Github.]</span>"
   ]
  },
  {
   "cell_type": "code",
   "execution_count": 2,
   "metadata": {},
   "outputs": [
    {
     "data": {
      "text/markdown": [
       "# Pipeline Data Explorer"
      ],
      "text/plain": [
       "<IPython.core.display.Markdown object>"
      ]
     },
     "metadata": {},
     "output_type": "display_data"
    },
    {
     "data": {
      "application/vnd.jupyter.widget-view+json": {
       "model_id": "874c87617cdb4e318ac009d4ce58d396",
       "version_major": 2,
       "version_minor": 0
      },
      "text/plain": [
       "HBox(children=(CytoscapeWidget(cytoscape_layout={'name': 'dagre'}, cytoscape_style=[{'selector': 'node', 'css'…"
      ]
     },
     "metadata": {},
     "output_type": "display_data"
    }
   ],
   "source": [
    "run.explore_data()"
   ]
  },
  {
   "cell_type": "markdown",
   "metadata": {},
   "source": [
    "## Retrospective analysis of the label errors issue\n",
    "\n",
    "ArgusEyes allows us to instantiate a special `FairnessRetrospective`, which helps us understand the predictions of the pipeline with respect to different demographic groups."
   ]
  },
  {
   "cell_type": "code",
   "execution_count": 3,
   "metadata": {},
   "outputs": [],
   "source": [
    "retrospective = FairnessRetrospective(run)"
   ]
  },
  {
   "cell_type": "markdown",
   "metadata": {},
   "source": [
    "Fairness in ML is typically defined with respect to a privileged group and a disadvantaged group. These groups are identified in the training data by examining a privileged value (e.g., 'male') for a sensitive attribute (e.g., 'sex'). The retrospective tells us for which group definitions we computed fairness metrics."
   ]
  },
  {
   "cell_type": "code",
   "execution_count": 5,
   "id": "6af91c93",
   "metadata": {},
   "outputs": [
    {
     "data": {
      "text/plain": [
       "{('race', 'white'), ('sex', 'male')}"
      ]
     },
     "execution_count": 5,
     "metadata": {},
     "output_type": "execute_result"
    }
   ],
   "source": [
    "retrospective.fairness_criteria()"
   ]
  },
  {
   "cell_type": "markdown",
   "metadata": {},
   "source": [
    "## Group-wise confusion matrices\n",
    "\n",
    "ArgusEyes allows data scientists to conduct a deep dive into the fairness of the pipeline. We can for example compute and inspect the confusion matrices for the test predictions of the pipeline, separately for the protected and disadvantaged group. "
   ]
  },
  {
   "cell_type": "code",
   "execution_count": 6,
   "metadata": {},
   "outputs": [
    {
     "data": {
      "text/html": [
       "\n",
       "        <div style=\"display:flex; margin-left:-5px; margin-right:-5px; width: 85%;\">\n",
       "          <div style=\"flex: 50%; padding: 5px;\">\n",
       "            <h5>Confusion matrix for the privileged group (sex=male)</h5>\n",
       "            <table>\n",
       "              <tr>\n",
       "                <td></td><td><b>positive prediction</b></td><td><b>negative prediction</b></td><td></td>\n",
       "              </tr>\n",
       "              <tr>\n",
       "                <td><b>positive label</b></td>\n",
       "                <td style=\"border-left: 2px solid black;border-top: 2px solid black;\">TP=179</td>\n",
       "                <td style=\"border-right: 2px solid black;border-top: 2px solid black;\">FN=206</td>\n",
       "                <td>385</td>\n",
       "              </tr>    \n",
       "              <tr>\n",
       "                <td><b>negative label</b></td>\n",
       "                <td style=\"border-left: 2px solid black;border-bottom: 2px solid black;\">FP=166</td>\n",
       "                <td style=\"border-right: 2px solid black;border-bottom: 2px solid black;\">TN=813</td>\n",
       "                <td>979</td>\n",
       "              </tr>  \n",
       "              <tr>\n",
       "                <td></td><td>345</td><td>1019</td><td></td>\n",
       "              </tr>    \n",
       "            </table>\n",
       "          </div>\n",
       "          <div style=\"flex: 50%; padding: 5px;\">\n",
       "            <h5>Confusion matrix for the disadvantaged group (sex!=male)</h5>  \n",
       "            <table>\n",
       "              <tr>\n",
       "                <td></td><td><b>positive prediction</b></td><td><b>negative prediction</b></td><td></td>\n",
       "              </tr>\n",
       "              <tr>\n",
       "                <td><b>positive label</b></td>\n",
       "                <td style=\"border-left: 2px solid black;border-top: 2px solid black;\">TP=141</td>\n",
       "                <td style=\"border-right: 2px solid black;border-top: 2px solid black;\">FN=151</td>\n",
       "                <td>292</td>\n",
       "              </tr>    \n",
       "              <tr>\n",
       "                <td><b>negative label</b></td>\n",
       "                <td style=\"border-left: 2px solid black;border-bottom: 2px solid black;\">FP=121</td>\n",
       "                <td style=\"border-right: 2px solid black;border-bottom: 2px solid black;\">TN=421</td>\n",
       "                <td>542</td>\n",
       "              </tr>  \n",
       "              <tr>\n",
       "                <td></td><td>262</td><td>572</td><td></td>\n",
       "              </tr>    \n",
       "            </table>\n",
       "          </div>  \n",
       "        </div>  \n",
       "        "
      ],
      "text/plain": [
       "<IPython.core.display.HTML object>"
      ]
     },
     "metadata": {},
     "output_type": "display_data"
    }
   ],
   "source": [
    "retrospective.show_confusion_matrix('sex', 'male')"
   ]
  },
  {
   "cell_type": "markdown",
   "metadata": {},
   "source": [
    "## Common fairness metrics\n",
    "\n",
    "Additionally, ArgusEyes can compute and plot common fairness metrics for a given group definition. Negatively values in these metrics indicate unfairness, and we see that our pipeline is unfair with respect to non-male persons in the test data."
   ]
  },
  {
   "cell_type": "code",
   "execution_count": 4,
   "id": "08e6b7bc",
   "metadata": {},
   "outputs": [
    {
     "data": {
      "text/plain": [
       "{'predictive_parity': -0.019327359221152696,\n",
       " 'equal_opportunity': -0.017941647393702187,\n",
       " 'statistical_parity': -0.061216129735507774}"
      ]
     },
     "execution_count": 4,
     "metadata": {},
     "output_type": "execute_result"
    }
   ],
   "source": [
    "retrospective.fairness_metrics('sex', 'male')"
   ]
  },
  {
   "cell_type": "code",
   "execution_count": 5,
   "id": "fe24e0d1",
   "metadata": {},
   "outputs": [
    {
     "data": {
      "image/png": "[encoded data removed]",
      "text/plain": [
       "<Figure size 640x480 with 1 Axes>"
      ]
     },
     "metadata": {},
     "output_type": "display_data"
    }
   ],
   "source": [
    "retrospective.plot_fairness_metrics('sex', 'male')"
   ]
  },
  {
   "cell_type": "markdown",
   "metadata": {},
   "source": [
    "### Fixing the pipeline\n",
    "\n",
    "In contrast to 'technical' issues like data leakage, fairness issues are much harder to fix, as they might not have a technical root cause, but might be a result of bias in the data, bias in the world or an inappropriate formalisation of a problem. In general fairness issues require consultation of legal experts and domain experts.\n",
    "\n",
    "If the root cause of unfairness is non-representative training data, then a pipeline can be fixed by increasing the training data to include more diverse and representative samples."
   ]
  },
  {
   "cell_type": "code",
   "execution_count": null,
   "metadata": {},
   "outputs": [],
   "source": []
  }
 ],
 "metadata": {
  "kernelspec": {
   "display_name": "Python 3 (ipykernel)",
   "language": "python",
   "name": "python3"
  },
  "language_info": {
   "codemirror_mode": {
    "name": "ipython",
    "version": 3
   },
   "file_extension": ".py",
   "mimetype": "text/x-python",
   "name": "python",
   "nbconvert_exporter": "python",
   "pygments_lexer": "ipython3",
   "version": "3.9.13"
  }
 },
 "nbformat": 4,
 "nbformat_minor": 5
}
